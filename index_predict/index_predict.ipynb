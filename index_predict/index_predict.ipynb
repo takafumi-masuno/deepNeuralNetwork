{
 "cells": [
  {
   "cell_type": "code",
   "execution_count": 1,
   "id": "46a1dd4e",
   "metadata": {},
   "outputs": [],
   "source": [
    "# 必要ライブラリのインポート\n",
    "import tensorflow as tf\n",
    "import numpy as np"
   ]
  },
  {
   "cell_type": "code",
   "execution_count": 2,
   "id": "166a1f4a",
   "metadata": {},
   "outputs": [],
   "source": [
    "# 予測に使用したいデータに応じて変更する\n",
    "# データの読み込み\n",
    "\n",
    "# \"isSiteIndex\": 0のデータ\n",
    "not_index_data = {\n",
    "      \"bankLink\": 1389,\n",
    "      \"waitTime\": 132,\n",
    "      \"returnRate\": 27,\n",
    "      \"ppu\": 6,\n",
    "      \"totalImgByte\": 4727259,\n",
    "      \"imageNum\": 41,\n",
    "      \"newVisitRate\": 77,\n",
    "      \"mainContentHeight\": 4160,\n",
    "      \"imgLoadTime\": 7.268064010777217,\n",
    "      \"jsResponseTime\": 346,\n",
    "      \"htmlTotalByte\": 47455,\n",
    "      \"cssByte\": 62300,\n",
    "      \"cssNum\": 3,\n",
    "      \"jsByte\": 947599,\n",
    "      \"jsNum\": 29,\n",
    "      \"keywordNum\": 19,\n",
    "      \"headLineNum\": 14,\n",
    "      \"isHeadKLine1Keyword\": 1,\n",
    "      \"titleNum\": 163,\n",
    "      \"isTitleKeyword\": 0,\n",
    "}\n",
    "\n",
    "# \"isSiteIndex\": 1のデータ\n",
    "be_indexed_data = {\n",
    "      \"bankLink\": 1765,\n",
    "      \"waitTime\": 262,\n",
    "      \"returnRate\": 22,\n",
    "      \"ppu\": 28,\n",
    "      \"totalImgByte\": 681397,\n",
    "      \"imageNum\": 22,\n",
    "      \"newVisitRate\": 33,\n",
    "      \"mainContentHeight\": 5794,\n",
    "      \"imgLoadTime\": 9.43288338087221,\n",
    "      \"jsResponseTime\": 758,\n",
    "      \"htmlTotalByte\": 33554,\n",
    "      \"cssByte\": 105061,\n",
    "      \"cssNum\": 11,\n",
    "      \"jsByte\": 1132534,\n",
    "      \"jsNum\": 75,\n",
    "      \"keywordNum\": 20,\n",
    "      \"headLineNum\": 43,\n",
    "      \"isHeadKLine1Keyword\": 0,\n",
    "      \"titleNum\": 188,\n",
    "      \"isTitleKeyword\": 0,\n",
    "}"
   ]
  },
  {
   "cell_type": "code",
   "execution_count": 3,
   "id": "72025d66",
   "metadata": {},
   "outputs": [],
   "source": [
    "# 離散化を行う関数\n",
    "def discretize(proba):\n",
    "    threshold = np.array([0.5]) # 0か1かを分ける閾値を0.5に設定\n",
    "    discretized = (proba >= threshold).astype(int) # 閾値未満で0、以上で1に変換\n",
    "    return discretized"
   ]
  },
  {
   "cell_type": "code",
   "execution_count": 4,
   "id": "2047812b",
   "metadata": {},
   "outputs": [
    {
     "name": "stdout",
     "output_type": "stream",
     "text": [
      "1/1 [==============================] - 0s 67ms/step\n"
     ]
    }
   ],
   "source": [
    "# モデルとフューチャースペースの読み込み\n",
    "model = tf.keras.models.load_model('index_model')\n",
    "feature_space = tf.keras.models.load_model(\"indexfeaturespace.keras\")\n",
    "\n",
    "# データをモデル用に整形\n",
    "input_dict = {name: tf.convert_to_tensor([value]) for name, value in not_index_data.items()}\n",
    "\n",
    "# 予測\n",
    "output = model.predict(feature_space(input_dict))"
   ]
  },
  {
   "cell_type": "code",
   "execution_count": 5,
   "id": "abe86930",
   "metadata": {},
   "outputs": [
    {
     "name": "stdout",
     "output_type": "stream",
     "text": [
      "インデックスされない\n"
     ]
    }
   ],
   "source": [
    "# 予測結果\n",
    "print('インデックスされない' if discretize(output)[0][0] == 0 else 'インデックスされる')"
   ]
  }
 ],
 "metadata": {
  "kernelspec": {
   "display_name": "Python 3 (ipykernel)",
   "language": "python",
   "name": "python3"
  },
  "language_info": {
   "codemirror_mode": {
    "name": "ipython",
    "version": 3
   },
   "file_extension": ".py",
   "mimetype": "text/x-python",
   "name": "python",
   "nbconvert_exporter": "python",
   "pygments_lexer": "ipython3",
   "version": "3.11.3"
  }
 },
 "nbformat": 4,
 "nbformat_minor": 5
}
