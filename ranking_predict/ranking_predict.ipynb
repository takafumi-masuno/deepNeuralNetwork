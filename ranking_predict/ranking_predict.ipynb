{
 "cells": [
  {
   "cell_type": "code",
   "execution_count": 1,
   "id": "46a1dd4e",
   "metadata": {},
   "outputs": [],
   "source": [
    "# 必要ライブラリのインポート\n",
    "import tensorflow as tf"
   ]
  },
  {
   "cell_type": "code",
   "execution_count": 2,
   "id": "166a1f4a",
   "metadata": {},
   "outputs": [],
   "source": [
    "# 予測に使用したいデータに応じて変更する\n",
    "# データの読み込み\n",
    "\n",
    "# \"rank\": 28のデータ\n",
    "ranking_data = {\n",
    "      \"bankLink\": 1221,\n",
    "      \"waitTime\": 192,\n",
    "      \"returnRate\": 76,\n",
    "      \"ppu\": 20,\n",
    "      \"totalImgByte\": 3498621,\n",
    "      \"imageNum\": 84,\n",
    "      \"newVisitRate\": 78,\n",
    "      \"mainContentHeight\": 10994,\n",
    "      \"imgLoadTime\": 8.407201752798223,\n",
    "      \"jsResponseTime\": 517,\n",
    "      \"htmlTotalByte\": 49305,\n",
    "      \"cssByte\": 85406,\n",
    "      \"cssNum\": 14,\n",
    "      \"jsByte\": 3979530,\n",
    "      \"jsNum\": 31,\n",
    "      \"keywordNum\": 13,\n",
    "      \"headLineNum\": 43,\n",
    "      \"isHeadKLine1Keyword\": 1,\n",
    "      \"titleNum\": 69,\n",
    "      \"isTitleKeyword\": 0,\n",
    "      \"isSiteIndex\": 0\n",
    "}"
   ]
  },
  {
   "cell_type": "code",
   "execution_count": 3,
   "id": "2047812b",
   "metadata": {},
   "outputs": [
    {
     "name": "stdout",
     "output_type": "stream",
     "text": [
      "1/1 [==============================] - 0s 54ms/step\n"
     ]
    }
   ],
   "source": [
    "# モデルとフューチャースペースの読み込み\n",
    "model = tf.keras.models.load_model('ranking_model')\n",
    "feature_space = tf.keras.models.load_model(\"rankingfeaturespace.keras\")\n",
    "\n",
    "# データをモデル用に整形\n",
    "input_dict = {name: tf.convert_to_tensor([value]) for name, value in ranking_data.items()}\n",
    "\n",
    "# 予測\n",
    "output = model.predict(feature_space(input_dict))"
   ]
  },
  {
   "cell_type": "code",
   "execution_count": 4,
   "id": "abe86930",
   "metadata": {},
   "outputs": [
    {
     "name": "stdout",
     "output_type": "stream",
     "text": [
      "予測検索ランキング順位30位\n"
     ]
    }
   ],
   "source": [
    "# 予測結果\n",
    "print(f\"予測検索ランキング順位{round(output[0][0])}位\")"
   ]
  }
 ],
 "metadata": {
  "kernelspec": {
   "display_name": "Python 3 (ipykernel)",
   "language": "python",
   "name": "python3"
  },
  "language_info": {
   "codemirror_mode": {
    "name": "ipython",
    "version": 3
   },
   "file_extension": ".py",
   "mimetype": "text/x-python",
   "name": "python",
   "nbconvert_exporter": "python",
   "pygments_lexer": "ipython3",
   "version": "3.11.3"
  }
 },
 "nbformat": 4,
 "nbformat_minor": 5
}
