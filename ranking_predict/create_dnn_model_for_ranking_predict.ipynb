{
 "cells": [
  {
   "cell_type": "markdown",
   "id": "fe9deac9",
   "metadata": {},
   "source": [
    "# 検索ランキングをDNNで回帰分析して予測する\n",
    "\n",
    "### 大まかな処理の流れ\n",
    "1. データの取り込み\n",
    "2. データの整形（トレーニングデータとテストデータを作成）\n",
    "3. モデルの定義\n",
    "4. チューナーをインスタンス化して、ハイパーパラメータのチューニングする\n",
    "5. チューニングしたハイパーパラメータでモデルを作成し、トレーニングする\n",
    "6. 作成したモデルを保存する\n",
    "7. 保存したモデルをお読み込み、予測したいデータで予測する"
   ]
  },
  {
   "cell_type": "markdown",
   "id": "310e4751",
   "metadata": {},
   "source": [
    "## 使用ライブラリのインポート"
   ]
  },
  {
   "cell_type": "code",
   "execution_count": 1,
   "id": "5acc5a20",
   "metadata": {},
   "outputs": [],
   "source": [
    "import tensorflow as tf\n",
    "import pandas as pd\n",
    "from keras.utils import FeatureSpace\n",
    "import json"
   ]
  },
  {
   "cell_type": "markdown",
   "id": "f31e3983",
   "metadata": {},
   "source": [
    "## 1. データの取り込み"
   ]
  },
  {
   "cell_type": "code",
   "execution_count": 2,
   "id": "9c1fcf99",
   "metadata": {},
   "outputs": [],
   "source": [
    "# 予測に使用したいデータに応じて変更する\n",
    "with open('ranking_data.json') as f:\n",
    "    json_data = json.load(f)\n",
    "\n",
    "dataframe = pd.read_json(json.dumps(json_data['data']))"
   ]
  },
  {
   "cell_type": "markdown",
   "id": "04cd2dcd",
   "metadata": {},
   "source": [
    "## 2. データの確認\n",
    "省略可能"
   ]
  },
  {
   "cell_type": "code",
   "execution_count": 3,
   "id": "9b83dc9b",
   "metadata": {},
   "outputs": [
    {
     "name": "stdout",
     "output_type": "stream",
     "text": [
      "(1000, 22)\n"
     ]
    }
   ],
   "source": [
    "print(dataframe.shape)"
   ]
  },
  {
   "cell_type": "code",
   "execution_count": 4,
   "id": "480f0e99",
   "metadata": {},
   "outputs": [
    {
     "data": {
      "text/html": [
       "<div>\n",
       "<style scoped>\n",
       "    .dataframe tbody tr th:only-of-type {\n",
       "        vertical-align: middle;\n",
       "    }\n",
       "\n",
       "    .dataframe tbody tr th {\n",
       "        vertical-align: top;\n",
       "    }\n",
       "\n",
       "    .dataframe thead th {\n",
       "        text-align: right;\n",
       "    }\n",
       "</style>\n",
       "<table border=\"1\" class=\"dataframe\">\n",
       "  <thead>\n",
       "    <tr style=\"text-align: right;\">\n",
       "      <th></th>\n",
       "      <th>bankLink</th>\n",
       "      <th>waitTime</th>\n",
       "      <th>returnRate</th>\n",
       "      <th>ppu</th>\n",
       "      <th>totalImgByte</th>\n",
       "      <th>imageNum</th>\n",
       "      <th>newVisitRate</th>\n",
       "      <th>mainContentHeight</th>\n",
       "      <th>imgLoadTime</th>\n",
       "      <th>jsResponseTime</th>\n",
       "      <th>...</th>\n",
       "      <th>cssNum</th>\n",
       "      <th>jsByte</th>\n",
       "      <th>jsNum</th>\n",
       "      <th>keywordNum</th>\n",
       "      <th>headLineNum</th>\n",
       "      <th>isHeadKLine1Keyword</th>\n",
       "      <th>titleNum</th>\n",
       "      <th>isTitleKeyword</th>\n",
       "      <th>isSiteIndex</th>\n",
       "      <th>rank</th>\n",
       "    </tr>\n",
       "  </thead>\n",
       "  <tbody>\n",
       "    <tr>\n",
       "      <th>0</th>\n",
       "      <td>1221</td>\n",
       "      <td>192</td>\n",
       "      <td>76</td>\n",
       "      <td>20</td>\n",
       "      <td>3498621</td>\n",
       "      <td>84</td>\n",
       "      <td>78</td>\n",
       "      <td>10994</td>\n",
       "      <td>8.407202</td>\n",
       "      <td>517</td>\n",
       "      <td>...</td>\n",
       "      <td>14</td>\n",
       "      <td>3979530</td>\n",
       "      <td>31</td>\n",
       "      <td>13</td>\n",
       "      <td>43</td>\n",
       "      <td>1</td>\n",
       "      <td>69</td>\n",
       "      <td>0</td>\n",
       "      <td>0</td>\n",
       "      <td>28</td>\n",
       "    </tr>\n",
       "    <tr>\n",
       "      <th>1</th>\n",
       "      <td>1119</td>\n",
       "      <td>179</td>\n",
       "      <td>79</td>\n",
       "      <td>10</td>\n",
       "      <td>1593458</td>\n",
       "      <td>92</td>\n",
       "      <td>61</td>\n",
       "      <td>5774</td>\n",
       "      <td>3.001431</td>\n",
       "      <td>995</td>\n",
       "      <td>...</td>\n",
       "      <td>11</td>\n",
       "      <td>3574088</td>\n",
       "      <td>81</td>\n",
       "      <td>18</td>\n",
       "      <td>24</td>\n",
       "      <td>0</td>\n",
       "      <td>60</td>\n",
       "      <td>0</td>\n",
       "      <td>1</td>\n",
       "      <td>9</td>\n",
       "    </tr>\n",
       "    <tr>\n",
       "      <th>2</th>\n",
       "      <td>300</td>\n",
       "      <td>31</td>\n",
       "      <td>38</td>\n",
       "      <td>16</td>\n",
       "      <td>2398586</td>\n",
       "      <td>44</td>\n",
       "      <td>57</td>\n",
       "      <td>2957</td>\n",
       "      <td>3.163140</td>\n",
       "      <td>817</td>\n",
       "      <td>...</td>\n",
       "      <td>7</td>\n",
       "      <td>2606387</td>\n",
       "      <td>97</td>\n",
       "      <td>19</td>\n",
       "      <td>43</td>\n",
       "      <td>1</td>\n",
       "      <td>70</td>\n",
       "      <td>1</td>\n",
       "      <td>1</td>\n",
       "      <td>1</td>\n",
       "    </tr>\n",
       "    <tr>\n",
       "      <th>3</th>\n",
       "      <td>1276</td>\n",
       "      <td>297</td>\n",
       "      <td>41</td>\n",
       "      <td>18</td>\n",
       "      <td>3825689</td>\n",
       "      <td>10</td>\n",
       "      <td>53</td>\n",
       "      <td>13604</td>\n",
       "      <td>9.909420</td>\n",
       "      <td>313</td>\n",
       "      <td>...</td>\n",
       "      <td>12</td>\n",
       "      <td>2188462</td>\n",
       "      <td>84</td>\n",
       "      <td>5</td>\n",
       "      <td>16</td>\n",
       "      <td>0</td>\n",
       "      <td>124</td>\n",
       "      <td>1</td>\n",
       "      <td>0</td>\n",
       "      <td>45</td>\n",
       "    </tr>\n",
       "    <tr>\n",
       "      <th>4</th>\n",
       "      <td>477</td>\n",
       "      <td>113</td>\n",
       "      <td>87</td>\n",
       "      <td>27</td>\n",
       "      <td>6021409</td>\n",
       "      <td>122</td>\n",
       "      <td>40</td>\n",
       "      <td>17770</td>\n",
       "      <td>5.565168</td>\n",
       "      <td>904</td>\n",
       "      <td>...</td>\n",
       "      <td>19</td>\n",
       "      <td>2295419</td>\n",
       "      <td>49</td>\n",
       "      <td>4</td>\n",
       "      <td>26</td>\n",
       "      <td>0</td>\n",
       "      <td>141</td>\n",
       "      <td>0</td>\n",
       "      <td>1</td>\n",
       "      <td>10</td>\n",
       "    </tr>\n",
       "  </tbody>\n",
       "</table>\n",
       "<p>5 rows × 22 columns</p>\n",
       "</div>"
      ],
      "text/plain": [
       "   bankLink  waitTime  returnRate  ppu  totalImgByte  imageNum  newVisitRate  \\\n",
       "0      1221       192          76   20       3498621        84            78   \n",
       "1      1119       179          79   10       1593458        92            61   \n",
       "2       300        31          38   16       2398586        44            57   \n",
       "3      1276       297          41   18       3825689        10            53   \n",
       "4       477       113          87   27       6021409       122            40   \n",
       "\n",
       "   mainContentHeight  imgLoadTime  jsResponseTime  ...  cssNum   jsByte  \\\n",
       "0              10994     8.407202             517  ...      14  3979530   \n",
       "1               5774     3.001431             995  ...      11  3574088   \n",
       "2               2957     3.163140             817  ...       7  2606387   \n",
       "3              13604     9.909420             313  ...      12  2188462   \n",
       "4              17770     5.565168             904  ...      19  2295419   \n",
       "\n",
       "   jsNum  keywordNum  headLineNum  isHeadKLine1Keyword  titleNum  \\\n",
       "0     31          13           43                    1        69   \n",
       "1     81          18           24                    0        60   \n",
       "2     97          19           43                    1        70   \n",
       "3     84           5           16                    0       124   \n",
       "4     49           4           26                    0       141   \n",
       "\n",
       "   isTitleKeyword  isSiteIndex  rank  \n",
       "0               0            0    28  \n",
       "1               0            1     9  \n",
       "2               1            1     1  \n",
       "3               1            0    45  \n",
       "4               0            1    10  \n",
       "\n",
       "[5 rows x 22 columns]"
      ]
     },
     "execution_count": 4,
     "metadata": {},
     "output_type": "execute_result"
    }
   ],
   "source": [
    "dataframe.head()"
   ]
  },
  {
   "cell_type": "markdown",
   "id": "340e51d7",
   "metadata": {},
   "source": [
    "## 3. トレーニングデータと検証データの作成"
   ]
  },
  {
   "cell_type": "code",
   "execution_count": 5,
   "id": "00734aa1",
   "metadata": {},
   "outputs": [
    {
     "name": "stdout",
     "output_type": "stream",
     "text": [
      "Using 800 samples for training and 200 for validation\n"
     ]
    }
   ],
   "source": [
    "# データフレームから検証用としてランダムに20％取り出す\n",
    "# random_stateを固定しているので、実行ごとに検証データとして取り出すデータは同じ\n",
    "val_dataframe = dataframe.sample(frac=0.2, random_state=1337)\n",
    "train_dataframe = dataframe.drop(val_dataframe.index)\n",
    "\n",
    "print(\n",
    "    \"Using %d samples for training and %d for validation\"\n",
    "    % (len(train_dataframe), len(val_dataframe))\n",
    ")"
   ]
  },
  {
   "cell_type": "code",
   "execution_count": 6,
   "id": "0070531a",
   "metadata": {},
   "outputs": [],
   "source": [
    "# 予測に使用したいデータに応じて変更する\n",
    "predict_value = \"rank\"\n",
    "\n",
    "# データフレームからデータセットに変換\n",
    "def dataframe_to_dataset(dataframe):\n",
    "    dataframe = dataframe.copy()\n",
    "    labels = dataframe.pop(predict_value)\n",
    "    ds = tf.data.Dataset.from_tensor_slices((dict(dataframe), labels))\n",
    "    ds = ds.shuffle(buffer_size=len(dataframe))\n",
    "    return ds\n",
    "\n",
    "train_ds = dataframe_to_dataset(train_dataframe)\n",
    "val_ds = dataframe_to_dataset(val_dataframe)"
   ]
  },
  {
   "cell_type": "code",
   "execution_count": 7,
   "id": "855e46e9",
   "metadata": {},
   "outputs": [
    {
     "name": "stdout",
     "output_type": "stream",
     "text": [
      "Input: {'bankLink': <tf.Tensor: shape=(), dtype=int64, numpy=1523>, 'waitTime': <tf.Tensor: shape=(), dtype=int64, numpy=271>, 'returnRate': <tf.Tensor: shape=(), dtype=int64, numpy=61>, 'ppu': <tf.Tensor: shape=(), dtype=int64, numpy=26>, 'totalImgByte': <tf.Tensor: shape=(), dtype=int64, numpy=5008676>, 'imageNum': <tf.Tensor: shape=(), dtype=int64, numpy=6>, 'newVisitRate': <tf.Tensor: shape=(), dtype=int64, numpy=58>, 'mainContentHeight': <tf.Tensor: shape=(), dtype=int64, numpy=3202>, 'imgLoadTime': <tf.Tensor: shape=(), dtype=float64, numpy=7.125317155989882>, 'jsResponseTime': <tf.Tensor: shape=(), dtype=int64, numpy=905>, 'htmlTotalByte': <tf.Tensor: shape=(), dtype=int64, numpy=6006>, 'cssByte': <tf.Tensor: shape=(), dtype=int64, numpy=58430>, 'cssNum': <tf.Tensor: shape=(), dtype=int64, numpy=8>, 'jsByte': <tf.Tensor: shape=(), dtype=int64, numpy=904361>, 'jsNum': <tf.Tensor: shape=(), dtype=int64, numpy=40>, 'keywordNum': <tf.Tensor: shape=(), dtype=int64, numpy=0>, 'headLineNum': <tf.Tensor: shape=(), dtype=int64, numpy=44>, 'isHeadKLine1Keyword': <tf.Tensor: shape=(), dtype=int64, numpy=0>, 'titleNum': <tf.Tensor: shape=(), dtype=int64, numpy=197>, 'isTitleKeyword': <tf.Tensor: shape=(), dtype=int64, numpy=1>, 'isSiteIndex': <tf.Tensor: shape=(), dtype=int64, numpy=0>}\n",
      "rank: tf.Tensor(33, shape=(), dtype=int64)\n"
     ]
    }
   ],
   "source": [
    "# データセットの中身の確認\n",
    "for x, y in train_ds.take(1):\n",
    "    print(\"Input:\", x)\n",
    "    print(f\"{predict_value}:\", y)"
   ]
  },
  {
   "cell_type": "code",
   "execution_count": 8,
   "id": "d4f69aba",
   "metadata": {},
   "outputs": [],
   "source": [
    "train_ds = train_ds.batch(32)\n",
    "val_ds = val_ds.batch(32)"
   ]
  },
  {
   "cell_type": "code",
   "execution_count": 9,
   "id": "f0c88980",
   "metadata": {},
   "outputs": [],
   "source": [
    "# 予測に使用したいデータに応じて変更する\n",
    "# 構造化データの前処理とエンコードを行う\n",
    "# 各データの特徴を以下の分類に当てはめる。\n",
    "# \"integer_categorical\"：数値（0,1など）カテゴリー、\"string_categorical\"：文字列カテゴリー、\"float_discretized\"：離散化する数値的特徴、\"float_normalized\"：正規化する数値的特徴\n",
    "feature_space = FeatureSpace(\n",
    "    features={\n",
    "        # 数値カテゴリー特徴\n",
    "        \"isHeadKLine1Keyword\": \"integer_categorical\",\n",
    "        \"isTitleKeyword\": \"integer_categorical\",\n",
    "        \"isSiteIndex\": \"integer_categorical\",\n",
    "        # 正規化する数値的特徴\n",
    "        \"bankLink\": \"float_normalized\",\n",
    "        \"waitTime\": \"float_normalized\",\n",
    "        \"returnRate\": \"float_normalized\",\n",
    "        \"ppu\": \"float_normalized\",\n",
    "        \"totalImgByte\": \"float_normalized\",\n",
    "        \"imageNum\": \"float_normalized\",\n",
    "        \"newVisitRate\": \"float_normalized\",\n",
    "        \"mainContentHeight\": \"float_normalized\",\n",
    "        \"imgLoadTime\": \"float_normalized\",\n",
    "        \"jsResponseTime\": \"float_normalized\",\n",
    "        \"htmlTotalByte\": \"float_normalized\",\n",
    "        \"cssByte\": \"float_normalized\",\n",
    "        \"cssNum\": \"float_normalized\",\n",
    "        \"jsByte\": \"float_normalized\",\n",
    "        \"jsNum\": \"float_normalized\",\n",
    "        \"keywordNum\": \"float_normalized\",\n",
    "        \"headLineNum\": \"float_normalized\",\n",
    "        \"titleNum\": \"float_normalized\",\n",
    "    },\n",
    "    # \"concat\"または\"dict\"。\n",
    "    # \"concat\"では、すべての特徴が 1 つのベクトルに連結される。\n",
    "    # \"dict\"では、個別にエンコードされた特徴のdictを返す (入力キーと同じキーを使用)。\n",
    "    output_mode=\"concat\",\n",
    ")"
   ]
  },
  {
   "cell_type": "code",
   "execution_count": 10,
   "id": "1e21d7ac",
   "metadata": {},
   "outputs": [],
   "source": [
    "train_ds_with_no_labels = train_ds.map(lambda x, _: x)\n",
    "feature_space.adapt(train_ds_with_no_labels)\n",
    "feature_space.save(\"rankingfeaturespace.keras\")"
   ]
  },
  {
   "cell_type": "code",
   "execution_count": 11,
   "id": "2caa6149",
   "metadata": {},
   "outputs": [
    {
     "name": "stdout",
     "output_type": "stream",
     "text": [
      "preprocessed_x.shape: (32, 27)\n",
      "preprocessed_x.dtype: <dtype: 'float32'>\n"
     ]
    }
   ],
   "source": [
    "# トレーニングデータセットから１つ取り出して確認\n",
    "for x, _ in train_ds.take(1):\n",
    "    preprocessed_x = feature_space(x)\n",
    "    print(\"preprocessed_x.shape:\", preprocessed_x.shape)\n",
    "    print(\"preprocessed_x.dtype:\", preprocessed_x.dtype)"
   ]
  },
  {
   "cell_type": "code",
   "execution_count": 12,
   "id": "e309411b",
   "metadata": {},
   "outputs": [
    {
     "name": "stdout",
     "output_type": "stream",
     "text": [
      "<_PrefetchDataset element_spec=(TensorSpec(shape=(None, 27), dtype=tf.float32, name=None), TensorSpec(shape=(None,), dtype=tf.int64, name=None))>\n"
     ]
    }
   ],
   "source": [
    "# num_parallel_callsで処理を並列化する。\n",
    "# tf.data.AUTOTUNEは並列度をランタイムで良い感じに決めてくれる。\n",
    "preprocessed_train_ds = train_ds.map(\n",
    "    lambda x, y: (feature_space(x), y), num_parallel_calls=tf.data.AUTOTUNE\n",
    ")\n",
    "# prefetchはGPUが計算している間にBatchデータをCPU側で用意しておく機能\n",
    "preprocessed_train_ds = preprocessed_train_ds.prefetch(tf.data.AUTOTUNE)\n",
    "\n",
    "preprocessed_val_ds = val_ds.map(\n",
    "    lambda x, y: (feature_space(x), y), num_parallel_calls=tf.data.AUTOTUNE\n",
    ")\n",
    "preprocessed_val_ds = preprocessed_val_ds.prefetch(tf.data.AUTOTUNE)\n",
    "\n",
    "print(preprocessed_train_ds)"
   ]
  },
  {
   "cell_type": "markdown",
   "id": "802c5d57",
   "metadata": {},
   "source": [
    "## 4. モデルを作成"
   ]
  },
  {
   "cell_type": "code",
   "execution_count": 13,
   "id": "f2fcf206",
   "metadata": {},
   "outputs": [],
   "source": [
    "dict_inputs = feature_space.get_inputs()\n",
    "encoded_features = feature_space.get_encoded_features()\n",
    "\n",
    "# 予測に使用したいデータに応じて変更する\n",
    "# チューニングしたいハイパーパラメーターを変更したい場合は変更する\n",
    "def create_model():\n",
    "    model = tf.keras.Sequential()\n",
    "\n",
    "    # 入力層\n",
    "    model.add(tf.keras.Input(tensor=encoded_features))\n",
    "\n",
    "    # 隠れ層\n",
    "    model.add(tf.keras.layers.Dense(64, activation='relu'))\n",
    "    model.add(tf.keras.layers.Dropout(0.1)) # ドロップアウト率\n",
    "\n",
    "    model.add(tf.keras.layers.Dense(32, activation='relu'))\n",
    "    model.add(tf.keras.layers.Dropout(0.1)) # ドロップアウト率\n",
    "\n",
    "    # 出力層\n",
    "    model.add(tf.keras.layers.Dense(1))\n",
    "\n",
    "    # 最適化アルゴリズム、損失関数、評価関数を指定してコンパイル\n",
    "    model.compile(\n",
    "        # 最適化アルゴリズム\n",
    "        optimizer=tf.keras.optimizers.Adam(),\n",
    "        # 損失関数\n",
    "        # 二値分類→binary_crossentropy、多クラス単一ラベル分類→categorical_crossentropy\n",
    "        # 多クラス多ラベル分類→binary_crossentropy、回帰問題（任意の値）→mse、回帰問題（０～１の値）→mse / binary_crossentropy\n",
    "        loss=\"mse\",\n",
    "        # 評価関数\n",
    "        metrics=[\"mae\"],\n",
    "    )\n",
    "\n",
    "    return model\n",
    "\n",
    "model = create_model()"
   ]
  },
  {
   "cell_type": "markdown",
   "id": "ae2fdc74",
   "metadata": {},
   "source": [
    "## 5. モデルをトレーニング"
   ]
  },
  {
   "cell_type": "code",
   "execution_count": 14,
   "id": "cccca574",
   "metadata": {},
   "outputs": [
    {
     "name": "stdout",
     "output_type": "stream",
     "text": [
      "Epoch 1/20\n",
      "25/25 [==============================] - 1s 5ms/step - loss: 521.8794 - mae: 17.0419\n",
      "Epoch 2/20\n",
      "25/25 [==============================] - 0s 1ms/step - loss: 427.7800 - mae: 14.8005\n",
      "Epoch 3/20\n",
      "25/25 [==============================] - 0s 2ms/step - loss: 312.3781 - mae: 12.8308\n",
      "Epoch 4/20\n",
      "25/25 [==============================] - 0s 1ms/step - loss: 218.0555 - mae: 11.6813\n",
      "Epoch 5/20\n",
      "25/25 [==============================] - 0s 1ms/step - loss: 177.2995 - mae: 11.2870\n",
      "Epoch 6/20\n",
      "25/25 [==============================] - 0s 1ms/step - loss: 156.9111 - mae: 10.7705\n",
      "Epoch 7/20\n",
      "25/25 [==============================] - 0s 1ms/step - loss: 141.8982 - mae: 10.1421\n",
      "Epoch 8/20\n",
      "25/25 [==============================] - 0s 1ms/step - loss: 124.9652 - mae: 9.4669\n",
      "Epoch 9/20\n",
      "25/25 [==============================] - 0s 1ms/step - loss: 117.4796 - mae: 9.0630\n",
      "Epoch 10/20\n",
      "25/25 [==============================] - 0s 1ms/step - loss: 105.5878 - mae: 8.4894\n",
      "Epoch 11/20\n",
      "25/25 [==============================] - 0s 1ms/step - loss: 96.9725 - mae: 7.9851\n",
      "Epoch 12/20\n",
      "25/25 [==============================] - 0s 1ms/step - loss: 91.4988 - mae: 7.5370\n",
      "Epoch 13/20\n",
      "25/25 [==============================] - 0s 1ms/step - loss: 84.9080 - mae: 7.1644\n",
      "Epoch 14/20\n",
      "25/25 [==============================] - 0s 1ms/step - loss: 80.6649 - mae: 6.9469\n",
      "Epoch 15/20\n",
      "25/25 [==============================] - 0s 1ms/step - loss: 81.4376 - mae: 6.8799\n",
      "Epoch 16/20\n",
      "25/25 [==============================] - 0s 1ms/step - loss: 79.2072 - mae: 6.7604\n",
      "Epoch 17/20\n",
      "25/25 [==============================] - 0s 1ms/step - loss: 75.3451 - mae: 6.5374\n",
      "Epoch 18/20\n",
      "25/25 [==============================] - 0s 1ms/step - loss: 75.2343 - mae: 6.5235\n",
      "Epoch 19/20\n",
      "25/25 [==============================] - 0s 1ms/step - loss: 78.0150 - mae: 6.6014\n",
      "Epoch 20/20\n",
      "25/25 [==============================] - 0s 1ms/step - loss: 76.3057 - mae: 6.5232\n"
     ]
    },
    {
     "data": {
      "text/plain": [
       "<keras.src.callbacks.History at 0x19ff3e18490>"
      ]
     },
     "execution_count": 14,
     "metadata": {},
     "output_type": "execute_result"
    }
   ],
   "source": [
    "# モデルのトレーニング\n",
    "model.fit(preprocessed_train_ds, epochs=20)"
   ]
  },
  {
   "cell_type": "markdown",
   "id": "384dbb83",
   "metadata": {},
   "source": [
    "## 6. モデルの評価"
   ]
  },
  {
   "cell_type": "code",
   "execution_count": 15,
   "id": "5269c1d7",
   "metadata": {},
   "outputs": [
    {
     "name": "stdout",
     "output_type": "stream",
     "text": [
      "7/7 [==============================] - 0s 3ms/step - loss: 82.5269 - mae: 6.7053\n",
      "Test MAE: 6.705\n"
     ]
    }
   ],
   "source": [
    "_, mae = model.evaluate(preprocessed_val_ds, verbose=1)\n",
    "print(f\"Test MAE: {round(mae, 3)}\")"
   ]
  },
  {
   "cell_type": "markdown",
   "id": "6cd7d303",
   "metadata": {},
   "source": [
    "## 7. モデルの保存と概要"
   ]
  },
  {
   "cell_type": "code",
   "execution_count": 16,
   "id": "85959125",
   "metadata": {},
   "outputs": [
    {
     "name": "stdout",
     "output_type": "stream",
     "text": [
      "INFO:tensorflow:Assets written to: ranking_model\\assets\n"
     ]
    },
    {
     "name": "stderr",
     "output_type": "stream",
     "text": [
      "INFO:tensorflow:Assets written to: ranking_model\\assets\n"
     ]
    },
    {
     "name": "stdout",
     "output_type": "stream",
     "text": [
      "Model: \"sequential\"\n",
      "_________________________________________________________________\n",
      " Layer (type)                Output Shape              Param #   \n",
      "=================================================================\n",
      " dense (Dense)               (None, 64)                1792      \n",
      "                                                                 \n",
      " dropout (Dropout)           (None, 64)                0         \n",
      "                                                                 \n",
      " dense_1 (Dense)             (None, 32)                2080      \n",
      "                                                                 \n",
      " dropout_1 (Dropout)         (None, 32)                0         \n",
      "                                                                 \n",
      " dense_2 (Dense)             (None, 1)                 33        \n",
      "                                                                 \n",
      "=================================================================\n",
      "Total params: 3905 (15.25 KB)\n",
      "Trainable params: 3905 (15.25 KB)\n",
      "Non-trainable params: 0 (0.00 Byte)\n",
      "_________________________________________________________________\n"
     ]
    }
   ],
   "source": [
    "# モデルの保存\n",
    "model.save(\"ranking_model\")\n",
    "# モデルの概要\n",
    "model.summary()"
   ]
  }
 ],
 "metadata": {
  "kernelspec": {
   "display_name": "Python 3 (ipykernel)",
   "language": "python",
   "name": "python3"
  },
  "language_info": {
   "codemirror_mode": {
    "name": "ipython",
    "version": 3
   },
   "file_extension": ".py",
   "mimetype": "text/x-python",
   "name": "python",
   "nbconvert_exporter": "python",
   "pygments_lexer": "ipython3",
   "version": "3.11.3"
  }
 },
 "nbformat": 4,
 "nbformat_minor": 5
}
