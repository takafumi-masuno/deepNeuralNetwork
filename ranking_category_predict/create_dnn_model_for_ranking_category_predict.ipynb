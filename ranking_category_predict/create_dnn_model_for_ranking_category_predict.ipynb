{
 "cells": [
  {
   "cell_type": "markdown",
   "id": "fe9deac9",
   "metadata": {},
   "source": [
    "# 検索ランキングをDNNで回帰分析して予測する\n",
    "\n",
    "### 大まかな処理の流れ\n",
    "1. データの取り込み\n",
    "2. データの整形（トレーニングデータとテストデータを作成）\n",
    "3. モデルの定義\n",
    "4. チューナーをインスタンス化して、ハイパーパラメータのチューニングする\n",
    "5. チューニングしたハイパーパラメータでモデルを作成し、トレーニングする\n",
    "6. 作成したモデルを保存する\n",
    "7. 保存したモデルをお読み込み、予測したいデータで予測する"
   ]
  },
  {
   "cell_type": "markdown",
   "id": "310e4751",
   "metadata": {},
   "source": [
    "## 使用ライブラリのインポート"
   ]
  },
  {
   "cell_type": "code",
   "execution_count": 1,
   "id": "5acc5a20",
   "metadata": {},
   "outputs": [],
   "source": [
    "import tensorflow as tf\n",
    "import pandas as pd\n",
    "from keras.utils import FeatureSpace\n",
    "import json"
   ]
  },
  {
   "cell_type": "markdown",
   "id": "f31e3983",
   "metadata": {},
   "source": [
    "## 1. データの取り込み"
   ]
  },
  {
   "cell_type": "code",
   "execution_count": 2,
   "id": "9c1fcf99",
   "metadata": {},
   "outputs": [],
   "source": [
    "# 予測に使用したいデータに応じて変更する\n",
    "with open('ranking_data.json') as f:\n",
    "    json_data = json.load(f)\n",
    "\n",
    "dataframe = pd.read_json(json.dumps(json_data['data']))"
   ]
  },
  {
   "cell_type": "code",
   "execution_count": 3,
   "id": "49b4f85a",
   "metadata": {},
   "outputs": [],
   "source": [
    "# ランキングをカテゴリー分け\n",
    "dataframe['rank'].mask(dataframe['rank'] == 1, 0, inplace=True)\n",
    "dataframe['rank'].mask((dataframe['rank'] == 2) & (dataframe['rank'] == 3), 1, inplace=True)\n",
    "dataframe['rank'].mask((4 <= dataframe['rank']) & (dataframe['rank'] <= 10), 2, inplace=True)\n",
    "dataframe['rank'].mask(dataframe['rank'] > 10, 3, inplace=True)"
   ]
  },
  {
   "cell_type": "markdown",
   "id": "04cd2dcd",
   "metadata": {},
   "source": [
    "## 2. データの確認\n",
    "省略可能"
   ]
  },
  {
   "cell_type": "code",
   "execution_count": 4,
   "id": "9b83dc9b",
   "metadata": {},
   "outputs": [
    {
     "name": "stdout",
     "output_type": "stream",
     "text": [
      "(1000, 22)\n"
     ]
    }
   ],
   "source": [
    "print(dataframe.shape)"
   ]
  },
  {
   "cell_type": "code",
   "execution_count": 5,
   "id": "480f0e99",
   "metadata": {},
   "outputs": [
    {
     "data": {
      "text/html": [
       "<div>\n",
       "<style scoped>\n",
       "    .dataframe tbody tr th:only-of-type {\n",
       "        vertical-align: middle;\n",
       "    }\n",
       "\n",
       "    .dataframe tbody tr th {\n",
       "        vertical-align: top;\n",
       "    }\n",
       "\n",
       "    .dataframe thead th {\n",
       "        text-align: right;\n",
       "    }\n",
       "</style>\n",
       "<table border=\"1\" class=\"dataframe\">\n",
       "  <thead>\n",
       "    <tr style=\"text-align: right;\">\n",
       "      <th></th>\n",
       "      <th>bankLink</th>\n",
       "      <th>waitTime</th>\n",
       "      <th>returnRate</th>\n",
       "      <th>ppu</th>\n",
       "      <th>totalImgByte</th>\n",
       "      <th>imageNum</th>\n",
       "      <th>newVisitRate</th>\n",
       "      <th>mainContentHeight</th>\n",
       "      <th>imgLoadTime</th>\n",
       "      <th>jsResponseTime</th>\n",
       "      <th>...</th>\n",
       "      <th>cssNum</th>\n",
       "      <th>jsByte</th>\n",
       "      <th>jsNum</th>\n",
       "      <th>keywordNum</th>\n",
       "      <th>headLineNum</th>\n",
       "      <th>isHeadKLine1Keyword</th>\n",
       "      <th>titleNum</th>\n",
       "      <th>isTitleKeyword</th>\n",
       "      <th>isSiteIndex</th>\n",
       "      <th>rank</th>\n",
       "    </tr>\n",
       "  </thead>\n",
       "  <tbody>\n",
       "    <tr>\n",
       "      <th>0</th>\n",
       "      <td>1221</td>\n",
       "      <td>192</td>\n",
       "      <td>76</td>\n",
       "      <td>20</td>\n",
       "      <td>3498621</td>\n",
       "      <td>84</td>\n",
       "      <td>78</td>\n",
       "      <td>10994</td>\n",
       "      <td>8.407202</td>\n",
       "      <td>517</td>\n",
       "      <td>...</td>\n",
       "      <td>14</td>\n",
       "      <td>3979530</td>\n",
       "      <td>31</td>\n",
       "      <td>13</td>\n",
       "      <td>43</td>\n",
       "      <td>1</td>\n",
       "      <td>69</td>\n",
       "      <td>0</td>\n",
       "      <td>0</td>\n",
       "      <td>3</td>\n",
       "    </tr>\n",
       "    <tr>\n",
       "      <th>1</th>\n",
       "      <td>1119</td>\n",
       "      <td>179</td>\n",
       "      <td>79</td>\n",
       "      <td>10</td>\n",
       "      <td>1593458</td>\n",
       "      <td>92</td>\n",
       "      <td>61</td>\n",
       "      <td>5774</td>\n",
       "      <td>3.001431</td>\n",
       "      <td>995</td>\n",
       "      <td>...</td>\n",
       "      <td>11</td>\n",
       "      <td>3574088</td>\n",
       "      <td>81</td>\n",
       "      <td>18</td>\n",
       "      <td>24</td>\n",
       "      <td>0</td>\n",
       "      <td>60</td>\n",
       "      <td>0</td>\n",
       "      <td>1</td>\n",
       "      <td>2</td>\n",
       "    </tr>\n",
       "    <tr>\n",
       "      <th>2</th>\n",
       "      <td>300</td>\n",
       "      <td>31</td>\n",
       "      <td>38</td>\n",
       "      <td>16</td>\n",
       "      <td>2398586</td>\n",
       "      <td>44</td>\n",
       "      <td>57</td>\n",
       "      <td>2957</td>\n",
       "      <td>3.163140</td>\n",
       "      <td>817</td>\n",
       "      <td>...</td>\n",
       "      <td>7</td>\n",
       "      <td>2606387</td>\n",
       "      <td>97</td>\n",
       "      <td>19</td>\n",
       "      <td>43</td>\n",
       "      <td>1</td>\n",
       "      <td>70</td>\n",
       "      <td>1</td>\n",
       "      <td>1</td>\n",
       "      <td>0</td>\n",
       "    </tr>\n",
       "    <tr>\n",
       "      <th>3</th>\n",
       "      <td>1276</td>\n",
       "      <td>297</td>\n",
       "      <td>41</td>\n",
       "      <td>18</td>\n",
       "      <td>3825689</td>\n",
       "      <td>10</td>\n",
       "      <td>53</td>\n",
       "      <td>13604</td>\n",
       "      <td>9.909420</td>\n",
       "      <td>313</td>\n",
       "      <td>...</td>\n",
       "      <td>12</td>\n",
       "      <td>2188462</td>\n",
       "      <td>84</td>\n",
       "      <td>5</td>\n",
       "      <td>16</td>\n",
       "      <td>0</td>\n",
       "      <td>124</td>\n",
       "      <td>1</td>\n",
       "      <td>0</td>\n",
       "      <td>3</td>\n",
       "    </tr>\n",
       "    <tr>\n",
       "      <th>4</th>\n",
       "      <td>477</td>\n",
       "      <td>113</td>\n",
       "      <td>87</td>\n",
       "      <td>27</td>\n",
       "      <td>6021409</td>\n",
       "      <td>122</td>\n",
       "      <td>40</td>\n",
       "      <td>17770</td>\n",
       "      <td>5.565168</td>\n",
       "      <td>904</td>\n",
       "      <td>...</td>\n",
       "      <td>19</td>\n",
       "      <td>2295419</td>\n",
       "      <td>49</td>\n",
       "      <td>4</td>\n",
       "      <td>26</td>\n",
       "      <td>0</td>\n",
       "      <td>141</td>\n",
       "      <td>0</td>\n",
       "      <td>1</td>\n",
       "      <td>2</td>\n",
       "    </tr>\n",
       "  </tbody>\n",
       "</table>\n",
       "<p>5 rows × 22 columns</p>\n",
       "</div>"
      ],
      "text/plain": [
       "   bankLink  waitTime  returnRate  ppu  totalImgByte  imageNum  newVisitRate  \\\n",
       "0      1221       192          76   20       3498621        84            78   \n",
       "1      1119       179          79   10       1593458        92            61   \n",
       "2       300        31          38   16       2398586        44            57   \n",
       "3      1276       297          41   18       3825689        10            53   \n",
       "4       477       113          87   27       6021409       122            40   \n",
       "\n",
       "   mainContentHeight  imgLoadTime  jsResponseTime  ...  cssNum   jsByte  \\\n",
       "0              10994     8.407202             517  ...      14  3979530   \n",
       "1               5774     3.001431             995  ...      11  3574088   \n",
       "2               2957     3.163140             817  ...       7  2606387   \n",
       "3              13604     9.909420             313  ...      12  2188462   \n",
       "4              17770     5.565168             904  ...      19  2295419   \n",
       "\n",
       "   jsNum  keywordNum  headLineNum  isHeadKLine1Keyword  titleNum  \\\n",
       "0     31          13           43                    1        69   \n",
       "1     81          18           24                    0        60   \n",
       "2     97          19           43                    1        70   \n",
       "3     84           5           16                    0       124   \n",
       "4     49           4           26                    0       141   \n",
       "\n",
       "   isTitleKeyword  isSiteIndex  rank  \n",
       "0               0            0     3  \n",
       "1               0            1     2  \n",
       "2               1            1     0  \n",
       "3               1            0     3  \n",
       "4               0            1     2  \n",
       "\n",
       "[5 rows x 22 columns]"
      ]
     },
     "execution_count": 5,
     "metadata": {},
     "output_type": "execute_result"
    }
   ],
   "source": [
    "dataframe.head()"
   ]
  },
  {
   "cell_type": "markdown",
   "id": "340e51d7",
   "metadata": {},
   "source": [
    "## 3. トレーニングデータと検証データの作成"
   ]
  },
  {
   "cell_type": "code",
   "execution_count": 6,
   "id": "00734aa1",
   "metadata": {},
   "outputs": [
    {
     "name": "stdout",
     "output_type": "stream",
     "text": [
      "Using 800 samples for training and 200 for validation\n"
     ]
    }
   ],
   "source": [
    "# データフレームから検証用としてランダムに20％取り出す\n",
    "# random_stateを固定しているので、実行ごとに検証データとして取り出すデータは同じ\n",
    "val_dataframe = dataframe.sample(frac=0.2, random_state=1337)\n",
    "train_dataframe = dataframe.drop(val_dataframe.index)\n",
    "\n",
    "print(\n",
    "    \"Using %d samples for training and %d for validation\"\n",
    "    % (len(train_dataframe), len(val_dataframe))\n",
    ")"
   ]
  },
  {
   "cell_type": "code",
   "execution_count": 7,
   "id": "0070531a",
   "metadata": {},
   "outputs": [],
   "source": [
    "# 予測に使用したいデータに応じて変更する\n",
    "predict_value = \"rank\"\n",
    "\n",
    "# データフレームからデータセットに変換\n",
    "def dataframe_to_dataset(dataframe):\n",
    "    dataframe = dataframe.copy()\n",
    "    labels = tf.keras.utils.to_categorical(dataframe.pop(predict_value), num_classes=4)\n",
    "    ds = tf.data.Dataset.from_tensor_slices((dict(dataframe), labels))\n",
    "    ds = ds.shuffle(buffer_size=len(dataframe))\n",
    "    return ds\n",
    "\n",
    "train_ds = dataframe_to_dataset(train_dataframe)\n",
    "val_ds = dataframe_to_dataset(val_dataframe)"
   ]
  },
  {
   "cell_type": "code",
   "execution_count": 8,
   "id": "855e46e9",
   "metadata": {},
   "outputs": [
    {
     "name": "stdout",
     "output_type": "stream",
     "text": [
      "Input: {'bankLink': <tf.Tensor: shape=(), dtype=int64, numpy=1403>, 'waitTime': <tf.Tensor: shape=(), dtype=int64, numpy=218>, 'returnRate': <tf.Tensor: shape=(), dtype=int64, numpy=51>, 'ppu': <tf.Tensor: shape=(), dtype=int64, numpy=11>, 'totalImgByte': <tf.Tensor: shape=(), dtype=int64, numpy=2915930>, 'imageNum': <tf.Tensor: shape=(), dtype=int64, numpy=66>, 'newVisitRate': <tf.Tensor: shape=(), dtype=int64, numpy=51>, 'mainContentHeight': <tf.Tensor: shape=(), dtype=int64, numpy=17781>, 'imgLoadTime': <tf.Tensor: shape=(), dtype=float64, numpy=8.280564189305464>, 'jsResponseTime': <tf.Tensor: shape=(), dtype=int64, numpy=383>, 'htmlTotalByte': <tf.Tensor: shape=(), dtype=int64, numpy=23156>, 'cssByte': <tf.Tensor: shape=(), dtype=int64, numpy=116108>, 'cssNum': <tf.Tensor: shape=(), dtype=int64, numpy=11>, 'jsByte': <tf.Tensor: shape=(), dtype=int64, numpy=2420833>, 'jsNum': <tf.Tensor: shape=(), dtype=int64, numpy=83>, 'keywordNum': <tf.Tensor: shape=(), dtype=int64, numpy=15>, 'headLineNum': <tf.Tensor: shape=(), dtype=int64, numpy=11>, 'isHeadKLine1Keyword': <tf.Tensor: shape=(), dtype=int64, numpy=0>, 'titleNum': <tf.Tensor: shape=(), dtype=int64, numpy=164>, 'isTitleKeyword': <tf.Tensor: shape=(), dtype=int64, numpy=0>, 'isSiteIndex': <tf.Tensor: shape=(), dtype=int64, numpy=0>}\n",
      "rank: tf.Tensor([0. 0. 0. 1.], shape=(4,), dtype=float32)\n"
     ]
    }
   ],
   "source": [
    "# データセットの中身の確認\n",
    "for x, y in train_ds.take(1):\n",
    "    print(\"Input:\", x)\n",
    "    print(f\"{predict_value}:\", y)"
   ]
  },
  {
   "cell_type": "code",
   "execution_count": 9,
   "id": "d4f69aba",
   "metadata": {},
   "outputs": [],
   "source": [
    "train_ds = train_ds.batch(32)\n",
    "val_ds = val_ds.batch(32)"
   ]
  },
  {
   "cell_type": "code",
   "execution_count": 10,
   "id": "f0c88980",
   "metadata": {},
   "outputs": [],
   "source": [
    "# 予測に使用したいデータに応じて変更する\n",
    "# 構造化データの前処理とエンコードを行う\n",
    "# 各データの特徴を以下の分類に当てはめる。\n",
    "# \"integer_categorical\"：数値（0,1など）カテゴリー、\"string_categorical\"：文字列カテゴリー、\"float_discretized\"：離散化する数値的特徴、\"float_normalized\"：正規化する数値的特徴\n",
    "feature_space = FeatureSpace(\n",
    "    features={\n",
    "        # 数値カテゴリー特徴\n",
    "        \"isHeadKLine1Keyword\": \"integer_categorical\",\n",
    "        \"isTitleKeyword\": \"integer_categorical\",\n",
    "        \"isSiteIndex\": \"integer_categorical\",\n",
    "        # 正規化する数値的特徴\n",
    "        \"bankLink\": \"float_normalized\",\n",
    "        \"waitTime\": \"float_normalized\",\n",
    "        \"returnRate\": \"float_normalized\",\n",
    "        \"ppu\": \"float_normalized\",\n",
    "        \"totalImgByte\": \"float_normalized\",\n",
    "        \"imageNum\": \"float_normalized\",\n",
    "        \"newVisitRate\": \"float_normalized\",\n",
    "        \"mainContentHeight\": \"float_normalized\",\n",
    "        \"imgLoadTime\": \"float_normalized\",\n",
    "        \"jsResponseTime\": \"float_normalized\",\n",
    "        \"htmlTotalByte\": \"float_normalized\",\n",
    "        \"cssByte\": \"float_normalized\",\n",
    "        \"cssNum\": \"float_normalized\",\n",
    "        \"jsByte\": \"float_normalized\",\n",
    "        \"jsNum\": \"float_normalized\",\n",
    "        \"keywordNum\": \"float_normalized\",\n",
    "        \"headLineNum\": \"float_normalized\",\n",
    "        \"titleNum\": \"float_normalized\",\n",
    "    },\n",
    "    # \"concat\"または\"dict\"。\n",
    "    # \"concat\"では、すべての特徴が 1 つのベクトルに連結される。\n",
    "    # \"dict\"では、個別にエンコードされた特徴のdictを返す (入力キーと同じキーを使用)。\n",
    "    output_mode=\"concat\",\n",
    ")"
   ]
  },
  {
   "cell_type": "code",
   "execution_count": 11,
   "id": "1e21d7ac",
   "metadata": {},
   "outputs": [],
   "source": [
    "train_ds_with_no_labels = train_ds.map(lambda x, _: x)\n",
    "feature_space.adapt(train_ds_with_no_labels)\n",
    "feature_space.save(\"rankingcategoryfeaturespace.keras\")"
   ]
  },
  {
   "cell_type": "code",
   "execution_count": 12,
   "id": "2caa6149",
   "metadata": {},
   "outputs": [
    {
     "name": "stdout",
     "output_type": "stream",
     "text": [
      "preprocessed_x.shape: (32, 27)\n",
      "preprocessed_x.dtype: <dtype: 'float32'>\n"
     ]
    }
   ],
   "source": [
    "# トレーニングデータセットから１つ取り出して確認\n",
    "for x, _ in train_ds.take(1):\n",
    "    preprocessed_x = feature_space(x)\n",
    "    print(\"preprocessed_x.shape:\", preprocessed_x.shape)\n",
    "    print(\"preprocessed_x.dtype:\", preprocessed_x.dtype)"
   ]
  },
  {
   "cell_type": "code",
   "execution_count": 13,
   "id": "e309411b",
   "metadata": {},
   "outputs": [
    {
     "name": "stdout",
     "output_type": "stream",
     "text": [
      "<_PrefetchDataset element_spec=(TensorSpec(shape=(None, 27), dtype=tf.float32, name=None), TensorSpec(shape=(None, 4), dtype=tf.float32, name=None))>\n"
     ]
    }
   ],
   "source": [
    "# num_parallel_callsで処理を並列化する。\n",
    "# tf.data.AUTOTUNEは並列度をランタイムで良い感じに決めてくれる。\n",
    "preprocessed_train_ds = train_ds.map(\n",
    "    lambda x, y: (feature_space(x), y), num_parallel_calls=tf.data.AUTOTUNE\n",
    ")\n",
    "# prefetchはGPUが計算している間にBatchデータをCPU側で用意しておく機能\n",
    "preprocessed_train_ds = preprocessed_train_ds.prefetch(tf.data.AUTOTUNE)\n",
    "\n",
    "preprocessed_val_ds = val_ds.map(\n",
    "    lambda x, y: (feature_space(x), y), num_parallel_calls=tf.data.AUTOTUNE\n",
    ")\n",
    "preprocessed_val_ds = preprocessed_val_ds.prefetch(tf.data.AUTOTUNE)\n",
    "\n",
    "print(preprocessed_train_ds)"
   ]
  },
  {
   "cell_type": "markdown",
   "id": "802c5d57",
   "metadata": {},
   "source": [
    "## 4. モデルを作成"
   ]
  },
  {
   "cell_type": "code",
   "execution_count": 15,
   "id": "f2fcf206",
   "metadata": {},
   "outputs": [],
   "source": [
    "dict_inputs = feature_space.get_inputs()\n",
    "encoded_features = feature_space.get_encoded_features()\n",
    "\n",
    "# 予測に使用したいデータに応じて変更する\n",
    "# チューニングしたいハイパーパラメーターを変更したい場合は変更する\n",
    "def create_model():\n",
    "    model = tf.keras.Sequential()\n",
    "\n",
    "    # 入力層\n",
    "    model.add(tf.keras.Input(tensor=encoded_features))\n",
    "\n",
    "    # 隠れ層\n",
    "    model.add(tf.keras.layers.Dense(64, activation='relu'))\n",
    "    model.add(tf.keras.layers.Dropout(0.1)) # ドロップアウト率\n",
    "\n",
    "    model.add(tf.keras.layers.Dense(32, activation='relu'))\n",
    "    model.add(tf.keras.layers.Dropout(0.1)) # ドロップアウト率\n",
    "\n",
    "    # 出力層\n",
    "    model.add(tf.keras.layers.Dense(4, activation='softmax'))\n",
    "\n",
    "    # 最適化アルゴリズム、損失関数、評価関数を指定してコンパイル\n",
    "    model.compile(\n",
    "        # 最適化アルゴリズム\n",
    "        optimizer=tf.keras.optimizers.Adam(),\n",
    "        # 損失関数\n",
    "        # 二値分類→binary_crossentropy、多クラス単一ラベル分類→categorical_crossentropy\n",
    "        # 多クラス多ラベル分類→binary_crossentropy、回帰問題（任意の値）→mse、回帰問題（０～１の値）→mse / binary_crossentropy\n",
    "        loss=\"categorical_crossentropy\",\n",
    "        # 評価関数\n",
    "        metrics=[\"categorical_accuracy\"],\n",
    "    )\n",
    "\n",
    "    return model\n",
    "\n",
    "model = create_model()"
   ]
  },
  {
   "cell_type": "markdown",
   "id": "ae2fdc74",
   "metadata": {},
   "source": [
    "## 5. モデルをトレーニング"
   ]
  },
  {
   "cell_type": "code",
   "execution_count": 16,
   "id": "cccca574",
   "metadata": {},
   "outputs": [
    {
     "name": "stdout",
     "output_type": "stream",
     "text": [
      "Epoch 1/20\n",
      "25/25 [==============================] - 0s 1ms/step - loss: 1.1648 - categorical_accuracy: 0.4412\n",
      "Epoch 2/20\n",
      "25/25 [==============================] - 0s 1ms/step - loss: 0.8063 - categorical_accuracy: 0.6687\n",
      "Epoch 3/20\n",
      "25/25 [==============================] - 0s 1ms/step - loss: 0.6631 - categorical_accuracy: 0.7613\n",
      "Epoch 4/20\n",
      "25/25 [==============================] - 0s 1ms/step - loss: 0.5459 - categorical_accuracy: 0.8175\n",
      "Epoch 5/20\n",
      "25/25 [==============================] - 0s 4ms/step - loss: 0.4597 - categorical_accuracy: 0.8625\n",
      "Epoch 6/20\n",
      "25/25 [==============================] - 0s 1ms/step - loss: 0.4144 - categorical_accuracy: 0.8712\n",
      "Epoch 7/20\n",
      "25/25 [==============================] - 0s 1ms/step - loss: 0.3719 - categorical_accuracy: 0.8863\n",
      "Epoch 8/20\n",
      "25/25 [==============================] - 0s 1ms/step - loss: 0.3380 - categorical_accuracy: 0.8763\n",
      "Epoch 9/20\n",
      "25/25 [==============================] - 0s 1ms/step - loss: 0.3190 - categorical_accuracy: 0.8950\n",
      "Epoch 10/20\n",
      "25/25 [==============================] - 0s 1ms/step - loss: 0.3233 - categorical_accuracy: 0.8938\n",
      "Epoch 11/20\n",
      "25/25 [==============================] - 0s 1ms/step - loss: 0.3235 - categorical_accuracy: 0.8850\n",
      "Epoch 12/20\n",
      "25/25 [==============================] - 0s 1ms/step - loss: 0.2974 - categorical_accuracy: 0.8913\n",
      "Epoch 13/20\n",
      "25/25 [==============================] - 0s 1ms/step - loss: 0.2833 - categorical_accuracy: 0.8988\n",
      "Epoch 14/20\n",
      "25/25 [==============================] - 0s 1ms/step - loss: 0.2890 - categorical_accuracy: 0.8950\n",
      "Epoch 15/20\n",
      "25/25 [==============================] - 0s 2ms/step - loss: 0.2770 - categorical_accuracy: 0.9038\n",
      "Epoch 16/20\n",
      "25/25 [==============================] - 0s 2ms/step - loss: 0.2604 - categorical_accuracy: 0.9038\n",
      "Epoch 17/20\n",
      "25/25 [==============================] - 0s 1ms/step - loss: 0.2429 - categorical_accuracy: 0.9000\n",
      "Epoch 18/20\n",
      "25/25 [==============================] - 0s 1ms/step - loss: 0.2534 - categorical_accuracy: 0.9075\n",
      "Epoch 19/20\n",
      "25/25 [==============================] - 0s 1ms/step - loss: 0.2459 - categorical_accuracy: 0.9075\n",
      "Epoch 20/20\n",
      "25/25 [==============================] - 0s 1ms/step - loss: 0.2363 - categorical_accuracy: 0.9137\n"
     ]
    },
    {
     "data": {
      "text/plain": [
       "<keras.src.callbacks.History at 0x22b2d0c7890>"
      ]
     },
     "execution_count": 16,
     "metadata": {},
     "output_type": "execute_result"
    }
   ],
   "source": [
    "# モデルのトレーニング\n",
    "model.fit(preprocessed_train_ds, epochs=20)"
   ]
  },
  {
   "cell_type": "markdown",
   "id": "384dbb83",
   "metadata": {},
   "source": [
    "## 6. モデルの評価"
   ]
  },
  {
   "cell_type": "code",
   "execution_count": 17,
   "id": "5269c1d7",
   "metadata": {},
   "outputs": [
    {
     "name": "stdout",
     "output_type": "stream",
     "text": [
      "7/7 [==============================] - 0s 6ms/step - loss: 0.4179 - categorical_accuracy: 0.8700\n",
      "[0.4179413616657257, 0.8700000047683716]\n"
     ]
    }
   ],
   "source": [
    "results = model.evaluate(preprocessed_val_ds, verbose=1)\n",
    "print(results)"
   ]
  },
  {
   "cell_type": "markdown",
   "id": "6cd7d303",
   "metadata": {},
   "source": [
    "## 7. モデルの保存と概要"
   ]
  },
  {
   "cell_type": "code",
   "execution_count": 18,
   "id": "85959125",
   "metadata": {},
   "outputs": [
    {
     "name": "stdout",
     "output_type": "stream",
     "text": [
      "INFO:tensorflow:Assets written to: ranking_category_model\\assets\n"
     ]
    },
    {
     "name": "stderr",
     "output_type": "stream",
     "text": [
      "INFO:tensorflow:Assets written to: ranking_category_model\\assets\n"
     ]
    },
    {
     "name": "stdout",
     "output_type": "stream",
     "text": [
      "Model: \"sequential_1\"\n",
      "_________________________________________________________________\n",
      " Layer (type)                Output Shape              Param #   \n",
      "=================================================================\n",
      " dense_1 (Dense)             (None, 64)                1792      \n",
      "                                                                 \n",
      " dropout (Dropout)           (None, 64)                0         \n",
      "                                                                 \n",
      " dense_2 (Dense)             (None, 32)                2080      \n",
      "                                                                 \n",
      " dropout_1 (Dropout)         (None, 32)                0         \n",
      "                                                                 \n",
      " dense_3 (Dense)             (None, 4)                 132       \n",
      "                                                                 \n",
      "=================================================================\n",
      "Total params: 4004 (15.64 KB)\n",
      "Trainable params: 4004 (15.64 KB)\n",
      "Non-trainable params: 0 (0.00 Byte)\n",
      "_________________________________________________________________\n"
     ]
    }
   ],
   "source": [
    "# モデルの保存\n",
    "model.save(\"ranking_category_model\")\n",
    "# モデルの概要\n",
    "model.summary()"
   ]
  }
 ],
 "metadata": {
  "kernelspec": {
   "display_name": "Python 3 (ipykernel)",
   "language": "python",
   "name": "python3"
  },
  "language_info": {
   "codemirror_mode": {
    "name": "ipython",
    "version": 3
   },
   "file_extension": ".py",
   "mimetype": "text/x-python",
   "name": "python",
   "nbconvert_exporter": "python",
   "pygments_lexer": "ipython3",
   "version": "3.11.3"
  }
 },
 "nbformat": 4,
 "nbformat_minor": 5
}
