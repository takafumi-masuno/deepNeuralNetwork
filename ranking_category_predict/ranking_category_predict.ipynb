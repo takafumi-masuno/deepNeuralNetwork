{
 "cells": [
  {
   "cell_type": "code",
   "execution_count": 15,
   "id": "46a1dd4e",
   "metadata": {},
   "outputs": [],
   "source": [
    "# 必要ライブラリのインポート\n",
    "import tensorflow as tf\n",
    "import numpy as np"
   ]
  },
  {
   "cell_type": "code",
   "execution_count": 106,
   "id": "166a1f4a",
   "metadata": {},
   "outputs": [],
   "source": [
    "# 予測に使用したいデータに応じて変更する\n",
    "# データの読み込み\n",
    "\n",
    "# \"rank\": 28のデータ\n",
    "ranking_data = {\n",
    "      \"bankLink\": 331,\n",
    "      \"waitTime\": 81,\n",
    "      \"returnRate\": 29,\n",
    "      \"ppu\": 13,\n",
    "      \"totalImgByte\": 5537188,\n",
    "      \"imageNum\": 8,\n",
    "      \"newVisitRate\": 63,\n",
    "      \"mainContentHeight\": 10429,\n",
    "      \"imgLoadTime\": 2.6717787964568496,\n",
    "      \"jsResponseTime\": 691,\n",
    "      \"htmlTotalByte\": 13456,\n",
    "      \"cssByte\": 121738,\n",
    "      \"cssNum\": 13,\n",
    "      \"jsByte\": 2438952,\n",
    "      \"jsNum\": 79,\n",
    "      \"keywordNum\": 12,\n",
    "      \"headLineNum\": 28,\n",
    "      \"isHeadKLine1Keyword\": 1,\n",
    "      \"titleNum\": 126,\n",
    "      \"isTitleKeyword\": 1,\n",
    "      \"isSiteIndex\": 1\n",
    "}"
   ]
  },
  {
   "cell_type": "code",
   "execution_count": 107,
   "id": "2047812b",
   "metadata": {},
   "outputs": [
    {
     "name": "stdout",
     "output_type": "stream",
     "text": [
      "1/1 [==============================] - 0s 33ms/step\n"
     ]
    }
   ],
   "source": [
    "# モデルとフューチャースペースの読み込み\n",
    "model = tf.keras.models.load_model('ranking_category_model')\n",
    "feature_space = tf.keras.models.load_model(\"rankingcategoryfeaturespace.keras\")\n",
    "\n",
    "# データをモデル用に整形\n",
    "input_dict = {name: tf.convert_to_tensor([value]) for name, value in ranking_data.items()}\n",
    "\n",
    "# 予測\n",
    "output = model.predict(feature_space(input_dict))"
   ]
  },
  {
   "cell_type": "code",
   "execution_count": 108,
   "id": "abe86930",
   "metadata": {},
   "outputs": [
    {
     "name": "stdout",
     "output_type": "stream",
     "text": [
      "検索ランキング1ページ目に表示\n"
     ]
    }
   ],
   "source": [
    "# 予測結果\n",
    "result_cat = np.argmax(output, axis=1)\n",
    "\n",
    "match result_cat[0]:\n",
    "    case 0:\n",
    "        print('検索ランキングTOP表示')\n",
    "    case 1:\n",
    "        print('検索ランキング1ページ目上位に表示')\n",
    "    case 2:\n",
    "        print('検索ランキング1ページ目に表示')\n",
    "    case 3:\n",
    "        print('検索ランキング2ページ目以降に表示')"
   ]
  }
 ],
 "metadata": {
  "kernelspec": {
   "display_name": "Python 3 (ipykernel)",
   "language": "python",
   "name": "python3"
  },
  "language_info": {
   "codemirror_mode": {
    "name": "ipython",
    "version": 3
   },
   "file_extension": ".py",
   "mimetype": "text/x-python",
   "name": "python",
   "nbconvert_exporter": "python",
   "pygments_lexer": "ipython3",
   "version": "3.11.3"
  }
 },
 "nbformat": 4,
 "nbformat_minor": 5
}
